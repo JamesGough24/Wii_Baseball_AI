{
  "nbformat": 4,
  "nbformat_minor": 0,
  "metadata": {
    "colab": {
      "provenance": []
    },
    "kernelspec": {
      "name": "python3",
      "display_name": "Python 3"
    },
    "language_info": {
      "name": "python"
    }
  },
  "cells": [
    {
      "cell_type": "code",
      "execution_count": null,
      "metadata": {
        "id": "UayJ6Dw-4uGl"
      },
      "outputs": [],
      "source": [
        "import cv2\n",
        "import os\n",
        "import shutil\n",
        "from pathlib import Path\n",
        "import numpy as np\n",
        "import matplotlib.pyplot as plt\n",
        "import torch\n",
        "from torchvision import transforms\n",
        "from PIL import Image, ImageOps"
      ]
    },
    {
      "cell_type": "code",
      "source": [
        "# Get hit number of the video\n",
        "def get_vid_number(video):\n",
        "    title = video.split('.')[0].split('Hit_')[-1]\n",
        "    number = int(title)\n",
        "    return number"
      ],
      "metadata": {
        "id": "0-4soVsw4yKW"
      },
      "execution_count": null,
      "outputs": []
    },
    {
      "cell_type": "code",
      "source": [
        "# Extract the frames we want for each video; we want last 7 frames as this shows ball travelling closer to plate\n",
        "def extract_frames(video, hit=True):\n",
        "    title = video.split('.')[0]\n",
        "    file_name = f'{title}.MOV'\n",
        "    number = get_vid_number(video)\n",
        "\n",
        "    vid = cv2.VideoCapture(file_name)\n",
        "    curr_frame = 1\n",
        "\n",
        "    for i in range(7):\n",
        "        success, frame = vid.read()\n",
        "\n",
        "        if hit:\n",
        "            cv2.imwrite(f'Hit_{number}_Frame_{curr_frame}.png', frame)\n",
        "        else:\n",
        "            cv2.imwrite(f'No_Hit_{number}_Frame_{curr_frame}.png', frame)\n",
        "\n",
        "        curr_frame += 1\n",
        "\n",
        "    print(f'Finished: {video}')\n",
        "\n",
        "    os.remove(video)"
      ],
      "metadata": {
        "id": "af85nY2x5FgX"
      },
      "execution_count": null,
      "outputs": []
    },
    {
      "cell_type": "code",
      "source": [
        "# Define the custom transformation function with centered cropping and smaller size\n",
        "def custom_transform(image, crop_size=(650, 650)):\n",
        "    width, height = image.size  # Get the width and height of the original image\n",
        "\n",
        "    crop_width, crop_height = crop_size  # Custom size for cropping\n",
        "\n",
        "    # Calculate the center of the image\n",
        "    center_x, center_y = width // 2, height // 2\n",
        "\n",
        "    # Calculate the cropping box coordinates\n",
        "    left = center_x - crop_width // 2\n",
        "    upper = center_y - crop_height // 2\n",
        "    right = center_x + crop_width // 2\n",
        "    lower = center_y + crop_height // 2\n",
        "\n",
        "    # Ensure the crop stays within the image boundaries\n",
        "    if left < 0:\n",
        "        left = 0\n",
        "        right = crop_width\n",
        "    if right > width:\n",
        "        right = width\n",
        "        left = width - crop_width\n",
        "    if upper < 0:\n",
        "        upper = 0\n",
        "        lower = crop_height\n",
        "    if lower > height:\n",
        "        lower = height\n",
        "        upper = height - crop_height\n",
        "\n",
        "    # Crop the image centered around the middle area\n",
        "    image = image.crop((left, upper, right, lower))\n",
        "\n",
        "    # Convert the image to an OpenCV format (BGR)\n",
        "    bgr_image = cv2.cvtColor(np.array(image), cv2.COLOR_RGB2BGR)\n",
        "\n",
        "    # Define the color range for the ball (example values)\n",
        "    lower_color = (135, 135, 135)  # Lower bound for ball color\n",
        "    upper_color = (255, 255, 255)  # Upper bound for ball color\n",
        "\n",
        "    # Create a mask to identify the ball\n",
        "    mask = cv2.inRange(bgr_image, lower_color, upper_color)\n",
        "\n",
        "    # Apply the mask to the original image\n",
        "    masked_image = cv2.bitwise_and(bgr_image, bgr_image, mask=mask)\n",
        "\n",
        "    # Convert the masked image back to RGB format\n",
        "    masked_image = cv2.cvtColor(masked_image, cv2.COLOR_BGR2RGB)\n",
        "\n",
        "    # Convert the image to greyscale\n",
        "    image = Image.fromarray(masked_image)\n",
        "    image = ImageOps.grayscale(image)\n",
        "\n",
        "    # Resize the image to 128x128 pixels\n",
        "    image = image.resize((128, 128))\n",
        "\n",
        "    # Convert to a tensor\n",
        "    image_tensor = transforms.ToTensor()(image)\n",
        "\n",
        "    return image_tensor"
      ],
      "metadata": {
        "id": "ppqvbCeC5IBd"
      },
      "execution_count": null,
      "outputs": []
    },
    {
      "cell_type": "code",
      "source": [
        "# Start with the Hit Folder\n",
        "def prepare_videos(swing_decision):\n",
        "  # Change directory to folder of videos files downloaded\n",
        "  home = Path.home()\n",
        "  frames_path = os.path.join(home, 'Downloads', 'Wii_Baseball_CNN_RNN', f'{swing_decision}')\n",
        "\n",
        "  os.chdir(frames_path)\n",
        "\n",
        "  # Loop through every video and feed through extract_frames function\n",
        "  num_videos = len(os.listdir())\n",
        "  for video in range(num_videos):\n",
        "      if video_list[video] != '.DS_Store':\n",
        "          extract_frames(video_list[video], hit=True)\n",
        "\n",
        "  print(\"Finished converting all video files to their frames\\n\")\n",
        "\n",
        "  # Create list of all file paths of the frames\n",
        "  frame_files = os.listdir()\n",
        "  frame_files = [os.path.join(frames_path, f) for f in frame_files if f.endswith('.png')]\n",
        "\n",
        "  # Apply\n",
        "  for frame in frame_files:\n",
        "    opened_frame = Image.open(frame)\n",
        "    frame_tensor = custom_transform(opened_frame)\n",
        "    image = transforms.ToPILImage()(frame_tensor)\n",
        "    frame_path = os.path.expanduser(frame)\n",
        "    file_name, _ = os.path.splitext(os.path.basename(frame_path))[0]\n",
        "    new_name = f'{file_name}_FINAL.png'\n",
        "    image.save(new_name)\n",
        "    os.remove(frame)\n",
        "\n",
        "  print(\"Finished preparing all frames\")\n",
        "\n",
        "prepare_videos('Hit')\n",
        "prepare_videos('No_Hit')"
      ],
      "metadata": {
        "id": "niTsnh_9GHEt"
      },
      "execution_count": null,
      "outputs": []
    },
    {
      "cell_type": "code",
      "source": [
        "def combine_folders(hit_folder, no_hit_folder, prepared_frames):\n",
        "  Path(prepared_frames).mkdir(exist_ok = True)\n",
        "\n",
        "  for file_name in os.listdir(hit_folder):\n",
        "    if file_name not file_name.endswith('.png'):\n",
        "      continue\n",
        "    source_file = os.path.join(hit_folder, file_name)\n",
        "    shutil.copy(source_file, prepared_frames)\n",
        "\n",
        "  for file_name in os.listdir(no_hit_folder):\n",
        "    if file_name not file_name.endswith('.png'):\n",
        "      continue\n",
        "    source_file = os.path.join(no_hit_folder, file_name)\n",
        "    shutil.copy(source_file, prepared_frames)\n",
        "\n",
        "  print(f\"All files combined into: {prepared_frames}\")\n",
        "\n",
        "home = Path.home()\n",
        "\n",
        "hit_folder = os.path.join(home, 'Downloads', 'Wii_Baseball_CNN_RNN', 'Hit')\n",
        "no_hit_folder = os.path.join(home, 'Downloads', 'Wii_Baseball_CNN_RNN', 'No_Hit')\n",
        "prepared_frames = os.path.join(home, 'Downloads', 'Wii_Baseball_CNN_RNN', 'Prepared_Frames')\n",
        "\n",
        "combine_folders(hit_folder, no_hit_folder, prepared_frames)"
      ],
      "metadata": {
        "id": "8kSy4p-lKLHu"
      },
      "execution_count": null,
      "outputs": []
    }
  ]
}